{
 "cells": [
  {
   "cell_type": "code",
   "execution_count": 1,
   "metadata": {},
   "outputs": [
    {
     "data": {
      "text/plain": [
       "True"
      ]
     },
     "execution_count": 1,
     "metadata": {},
     "output_type": "execute_result"
    }
   ],
   "source": [
    "import pandas as pd\n",
    "import json\n",
    "import os\n",
    "import math\n",
    "from openai import OpenAI\n",
    "from geopy.distance import geodesic\n",
    "\n",
    "from dotenv import load_dotenv\n",
    "load_dotenv()"
   ]
  },
  {
   "cell_type": "code",
   "execution_count": 2,
   "metadata": {},
   "outputs": [],
   "source": [
    "openai_api_key = os.getenv('OPENAI_API_KEY')\n",
    "client = OpenAI(api_key=openai_api_key)"
   ]
  },
  {
   "cell_type": "code",
   "execution_count": 3,
   "metadata": {},
   "outputs": [],
   "source": [
    "interventions = pd.read_csv('interventions.csv')\n",
    "interventions_dict = json.loads(interventions.to_json(orient='records'))"
   ]
  },
  {
   "cell_type": "code",
   "execution_count": 4,
   "metadata": {},
   "outputs": [],
   "source": [
    "def flatten_data(records):\n",
    "    flattened_records = []\n",
    "    for record in records:\n",
    "        nested_str = record.pop('origxml')\n",
    "        nested = json.loads(nested_str)\n",
    "        flattened_record = {**record, **nested}\n",
    "        flattened_records.append(flattened_record)\n",
    "    return flattened_records"
   ]
  },
  {
   "cell_type": "code",
   "execution_count": 5,
   "metadata": {},
   "outputs": [],
   "source": [
    "flattened_data = flatten_data(interventions_dict)\n",
    "df = pd.DataFrame(flattened_data)"
   ]
  },
  {
   "cell_type": "code",
   "execution_count": 6,
   "metadata": {},
   "outputs": [
    {
     "data": {
      "text/plain": [
       "urgent\n",
       "1    2888\n",
       "Name: count, dtype: int64"
      ]
     },
     "execution_count": 6,
     "metadata": {},
     "output_type": "execute_result"
    }
   ],
   "source": [
    "df_urgent = df[df['urgent'] == 1]\n",
    "df_urgent['urgent'].value_counts()"
   ]
  },
  {
   "cell_type": "code",
   "execution_count": 7,
   "metadata": {},
   "outputs": [],
   "source": [
    "prompt = \"\"\"\n",
    "Je rol is die van een geotagger. Je ontvangt een korte tekst die mogelijk verwijst naar een fysieke locatie. Jouw taak is om deze locatie te identificeren en te classificeren. De locatieverwijzing zal waarschijnlijk geen expliciete naam van een stad of land zijn, maar eerder een beschrijvende term gerelateerd aan nabijheid. De locatieverwijzingen vallen onder één van de volgende drie categorieën:\n",
    "\n",
    "Categorieën van locatieverwijzingen:\n",
    "    1. Gebouwkenmerk: Bijvoorbeeld \"op het derde verdiep\", \"alleenstaand huis\".\n",
    "    2. Vindbaar op Google Maps: Bijvoorbeeld \"naast tankstation\", \"tegenover de kerk\".\n",
    "    3. Andere: Bijvoorbeeld \"aan een rondpunt\", \"afrit snelweg\".\n",
    "\n",
    "Taken:\n",
    "    Analyseer de tekst om de geotag te vinden.\n",
    "    Classificeer de geotag volgens de bovengenoemde categorieën en geef de index van de categorie.\n",
    "    Indien een numerieke afstand wordt genoemd bij de geotag, zet deze om in meters.\n",
    "    Als er geen locatieverwijzing is, antwoord dan met \"X\".\n",
    "\n",
    "Antwoordformaat: Indien een geotag is gevonden, geef je antwoord in de vorm van \"categorie:geotag:afstand\". Als er geen afstand is vermeld, gebruik \"categorie:geotag:X\". Als er geen geotag is gevonden, antwoord dan met \"X\". Gebruik de volgende indexen voor de categorieën: 1: Gebouwkenmerk, 2: Vindbaar op Google Maps, 3: Andere.\n",
    "\n",
    "Voorbeeld: Gegeven de tekst \"aan gulf tankstation, auto staat in brand, grijze Mercedes, staat 3 m van de pompen, enkel rook\", zou jouw antwoord moeten zijn: \"2:gulf tankstation:3\".\n",
    "\"\"\""
   ]
  },
  {
   "cell_type": "code",
   "execution_count": 8,
   "metadata": {},
   "outputs": [],
   "source": [
    "def geotag_text(info):\n",
    "    user_prompt= f'Dit is de tekst die je moet analyseren: {info}'\n",
    "    return client.chat.completions.create(\n",
    "        model=\"gpt-4o\",\n",
    "        max_tokens=25,\n",
    "        messages=[\n",
    "            {\"role\": \"system\", \"content\": prompt},\n",
    "            {\"role\": \"user\", \"content\": user_prompt},\n",
    "        ],\n",
    "    )"
   ]
  },
  {
   "cell_type": "code",
   "execution_count": 9,
   "metadata": {},
   "outputs": [],
   "source": [
    "df_geotags = pd.DataFrame(columns=['id', 'output'])"
   ]
  },
  {
   "cell_type": "code",
   "execution_count": null,
   "metadata": {},
   "outputs": [],
   "source": [
    "for i, row in df_urgent.iterrows():\n",
    "    info = row['Info']\n",
    "    response = geotag_text(info)\n",
    "    content = response.choices[0].message.content\n",
    "    new_row = pd.DataFrame([{'id': row['id'], 'output': content}])\n",
    "    df_geotags = pd.concat([df_geotags, new_row], ignore_index=True)"
   ]
  },
  {
   "cell_type": "code",
   "execution_count": 11,
   "metadata": {},
   "outputs": [
    {
     "data": {
      "text/plain": [
       "(2888, 2)"
      ]
     },
     "execution_count": 11,
     "metadata": {},
     "output_type": "execute_result"
    }
   ],
   "source": [
    "df_geotags.shape"
   ]
  },
  {
   "cell_type": "code",
   "execution_count": 12,
   "metadata": {},
   "outputs": [],
   "source": [
    "df_geotags.to_csv('geotags_gpt4.csv', index=False)"
   ]
  },
  {
   "cell_type": "code",
   "execution_count": null,
   "metadata": {},
   "outputs": [],
   "source": [
    "df = pd.read_csv('geotags_gpt4.csv')"
   ]
  },
  {
   "cell_type": "code",
   "execution_count": null,
   "metadata": {},
   "outputs": [],
   "source": [
    "df['output'] = df['output'].str.strip('\\'\"')"
   ]
  },
  {
   "cell_type": "code",
   "execution_count": 29,
   "metadata": {},
   "outputs": [
    {
     "data": {
      "text/plain": [
       "(2888, 4)"
      ]
     },
     "execution_count": 29,
     "metadata": {},
     "output_type": "execute_result"
    }
   ],
   "source": [
    "split_cols = df['output'].str.split(':', expand=True)\n",
    "\n",
    "df['categorie'] = split_cols[0]\n",
    "df['geotag'] = split_cols[1]\n",
    "df['afstand'] = split_cols[2]\n",
    "\n",
    "df.drop(columns=['output'], inplace=True)\n",
    "df.shape"
   ]
  },
  {
   "cell_type": "code",
   "execution_count": null,
   "metadata": {},
   "outputs": [],
   "source": [
    "df.to_csv('geotags_processed.csv', index=False)"
   ]
  },
  {
   "cell_type": "code",
   "execution_count": null,
   "metadata": {},
   "outputs": [],
   "source": [
    "geotags_processed = pd.read_csv('geotags_processed.csv')"
   ]
  },
  {
   "cell_type": "code",
   "execution_count": null,
   "metadata": {},
   "outputs": [],
   "source": [
    "df_merged = geotags_processed[geotags_processed['categorie'].isin(['1', '2', '3', 'X'])]"
   ]
  },
  {
   "cell_type": "code",
   "execution_count": null,
   "metadata": {},
   "outputs": [],
   "source": [
    "def stratified_sample(df, category_col, sample_size):\n",
    "    category_proportions = df[category_col].value_counts(normalize=True)\n",
    "    samples_per_category = (category_proportions * sample_size).round().astype(int)\n",
    "\n",
    "    stratified_samples = [\n",
    "        df[df[category_col] == category].sample(n=num_samples, random_state=1, replace=True)\n",
    "        for category, num_samples in samples_per_category.items()\n",
    "    ]\n",
    "    \n",
    "    stratified_df = pd.concat(stratified_samples).reset_index(drop=True)\n",
    "    return stratified_df"
   ]
  },
  {
   "cell_type": "code",
   "execution_count": null,
   "metadata": {},
   "outputs": [],
   "source": [
    "import math\n",
    "\n",
    "sample_size = math.ceil(df_merged.shape[0]*0.05)\n",
    "print(sample_size)\n",
    "sampled_df = stratified_sample(df_merged, 'categorie', sample_size)\n",
    "sampled_df.shape"
   ]
  },
  {
   "cell_type": "code",
   "execution_count": null,
   "metadata": {},
   "outputs": [],
   "source": [
    "df = pd.DataFrame(pd.read_excel(\"sampled_geotags_ingevuld.xlsx\"))"
   ]
  },
  {
   "cell_type": "code",
   "execution_count": 3,
   "metadata": {},
   "outputs": [],
   "source": [
    "df['true_label'] = df['true_label'].astype(str)\n",
    "df['categorie'] = df['categorie'].astype(str)"
   ]
  },
  {
   "cell_type": "code",
   "execution_count": 4,
   "metadata": {},
   "outputs": [
    {
     "data": {
      "text/plain": [
       "true_label\n",
       "Geotag    78\n",
       "X         67\n",
       "Name: count, dtype: int64"
      ]
     },
     "execution_count": 4,
     "metadata": {},
     "output_type": "execute_result"
    }
   ],
   "source": [
    "df_copy = df.copy()\n",
    "df_copy['true_label'] = df_copy['true_label'].replace(['1', '2', '3'], 'Geotag')\n",
    "df_copy['categorie'] = df_copy['categorie'].replace(['1', '2', '3'], 'Geotag')\n",
    "df_copy['true_label'].value_counts()"
   ]
  },
  {
   "cell_type": "code",
   "execution_count": 5,
   "metadata": {},
   "outputs": [
    {
     "data": {
      "text/plain": [
       "array([[27,  8,  2, 13],\n",
       "       [ 0, 14,  0,  2],\n",
       "       [ 1,  5,  8,  3],\n",
       "       [ 5,  5,  3, 49]], dtype=int64)"
      ]
     },
     "execution_count": 5,
     "metadata": {},
     "output_type": "execute_result"
    }
   ],
   "source": [
    "from sklearn.metrics import confusion_matrix, accuracy_score\n",
    "\n",
    "confusion_matrix(df['categorie'], df['true_label'])"
   ]
  },
  {
   "cell_type": "code",
   "execution_count": 8,
   "metadata": {},
   "outputs": [
    {
     "data": {
      "text/plain": [
       "0.7862068965517242"
      ]
     },
     "execution_count": 8,
     "metadata": {},
     "output_type": "execute_result"
    }
   ],
   "source": [
    "accuracy_score(df_copy['true_label'], df_copy['categorie'])"
   ]
  },
  {
   "cell_type": "code",
   "execution_count": 9,
   "metadata": {},
   "outputs": [
    {
     "data": {
      "text/plain": [
       "0.6758620689655173"
      ]
     },
     "execution_count": 9,
     "metadata": {},
     "output_type": "execute_result"
    }
   ],
   "source": [
    "accuracy_score(df['true_label'], df['categorie'])"
   ]
  },
  {
   "cell_type": "code",
   "execution_count": 13,
   "metadata": {},
   "outputs": [
    {
     "data": {
      "text/plain": [
       "(145, 6)"
      ]
     },
     "execution_count": 13,
     "metadata": {},
     "output_type": "execute_result"
    }
   ],
   "source": [
    "df_new = df_copy[df_copy['true_label'] != 'X']\n",
    "df_new.shape"
   ]
  },
  {
   "cell_type": "code",
   "execution_count": null,
   "metadata": {},
   "outputs": [],
   "source": [
    "accuracy_score(df['true_label'], df['categorie'])"
   ]
  },
  {
   "cell_type": "code",
   "execution_count": 11,
   "metadata": {},
   "outputs": [
    {
     "data": {
      "text/plain": [
       "0.6758620689655173"
      ]
     },
     "execution_count": 11,
     "metadata": {},
     "output_type": "execute_result"
    }
   ],
   "source": [
    "accuracy_score(df['true_label'], df['categorie'], normalize=True)"
   ]
  },
  {
   "cell_type": "code",
   "execution_count": 6,
   "metadata": {},
   "outputs": [],
   "source": [
    "df_copy['true_label'] = df_copy['true_label'].replace('X', 'Geen geotag')\n",
    "df_copy['categorie'] = df_copy['categorie'].replace('X', 'Geen geotag')"
   ]
  },
  {
   "cell_type": "code",
   "execution_count": 7,
   "metadata": {},
   "outputs": [
    {
     "data": {
      "image/png": "[encoded data removed]",
      "text/plain": [
       "<Figure size 640x480 with 2 Axes>"
      ]
     },
     "metadata": {},
     "output_type": "display_data"
    }
   ],
   "source": [
    "from sklearn.metrics import ConfusionMatrixDisplay\n",
    "import matplotlib.pyplot as plt\n",
    "\n",
    "unique_labels = sorted(df_copy['categorie'].unique())\n",
    "ConfusionMatrixDisplay.from_predictions(df_copy['true_label'], df_copy['categorie'], labels=unique_labels, normalize=\"true\", values_format=\".2%\")\n",
    "plt.title('Verwarringsmatrix geotagging')\n",
    "plt.xlabel('Voorspelde')\n",
    "plt.ylabel('Werkelijke')\n",
    "plt.show()"
   ]
  },
  {
   "cell_type": "code",
   "execution_count": 43,
   "metadata": {},
   "outputs": [],
   "source": [
    "df['true_label'] = df['true_label'].replace('X', 'Geen geotag')\n",
    "df['categorie'] = df['categorie'].replace('X', 'Geen geotag')\n",
    "df['true_label'] = df['true_label'].replace('1', 'Cat 1')\n",
    "df['categorie'] = df['categorie'].replace('1', 'Cat 1')\n",
    "df['true_label'] = df['true_label'].replace('2', 'Cat 2')\n",
    "df['categorie'] = df['categorie'].replace('2', 'Cat 2')\n",
    "df['true_label'] = df['true_label'].replace('3', 'Cat 3')\n",
    "df['categorie'] = df['categorie'].replace('3', 'Cat 3')"
   ]
  },
  {
   "cell_type": "code",
   "execution_count": 44,
   "metadata": {},
   "outputs": [
    {
     "data": {
      "text/plain": [
       "true_label\n",
       "Geen geotag    67\n",
       "Cat 1          33\n",
       "Cat 2          32\n",
       "Cat 3          13\n",
       "Name: count, dtype: int64"
      ]
     },
     "execution_count": 44,
     "metadata": {},
     "output_type": "execute_result"
    }
   ],
   "source": [
    "df['true_label'].value_counts()"
   ]
  },
  {
   "cell_type": "code",
   "execution_count": 45,
   "metadata": {},
   "outputs": [
    {
     "data": {
      "text/plain": [
       "categorie\n",
       "Geen geotag    62\n",
       "Cat 1          50\n",
       "Cat 3          17\n",
       "Cat 2          16\n",
       "Name: count, dtype: int64"
      ]
     },
     "execution_count": 45,
     "metadata": {},
     "output_type": "execute_result"
    }
   ],
   "source": [
    "df['categorie'].value_counts()"
   ]
  },
  {
   "cell_type": "code",
   "execution_count": 62,
   "metadata": {},
   "outputs": [
    {
     "data": {
      "image/png": "[encoded data removed]",
      "text/plain": [
       "<Figure size 640x480 with 2 Axes>"
      ]
     },
     "metadata": {},
     "output_type": "display_data"
    }
   ],
   "source": [
    "unique_labels = ['Geen geotag', 'Cat 1', 'Cat 2', 'Cat 3']\n",
    "#disp = ConfusionMatrixDisplay(confusion_matrix(df['true_label'], df['categorie'], labels=unique_labels, normalize=\"true\"), display_labels=unique_labels).plot()\n",
    "ConfusionMatrixDisplay.from_predictions(df['true_label'], df['categorie'], labels=unique_labels, normalize=\"true\", values_format=\".2%\")\n",
    "plt.title('Verwarringsmatrix geotag categorieën')\n",
    "plt.xlabel('Voorspelde categorie')\n",
    "plt.ylabel('Werkelijke categorie')\n",
    "plt.show()"
   ]
  }
 ],
 "metadata": {
  "kernelspec": {
   "display_name": ".venv",
   "language": "python",
   "name": "python3"
  },
  "language_info": {
   "codemirror_mode": {
    "name": "ipython",
    "version": 3
   },
   "file_extension": ".py",
   "mimetype": "text/x-python",
   "name": "python",
   "nbconvert_exporter": "python",
   "pygments_lexer": "ipython3",
   "version": "3.11.9"
  }
 },
 "nbformat": 4,
 "nbformat_minor": 2
}
